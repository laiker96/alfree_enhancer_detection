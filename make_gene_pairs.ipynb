{
 "cells": [
  {
   "cell_type": "code",
   "execution_count": 12,
   "id": "258d3bb8-7c50-4444-be14-6841aef6991f",
   "metadata": {},
   "outputs": [],
   "source": [
    "import pandas as pd\n",
    "import numpy as np"
   ]
  },
  {
   "cell_type": "code",
   "execution_count": 13,
   "id": "88948377-e8ff-41fe-a6e3-9812a28ad6dc",
   "metadata": {},
   "outputs": [],
   "source": [
    "pairs = pd.read_csv('ortho_pairs.txt', header=0, sep='\\t')\n",
    "hg19_genes = pd.read_csv('hg38_chr1_geneModels.bed', header=None, sep='\\t')\n",
    "mm10_genes = pd.read_csv('mm10_chr4_geneModels.bed', header=None, sep='\\t')"
   ]
  },
  {
   "cell_type": "code",
   "execution_count": 14,
   "id": "776e2bd1-703b-4826-b15f-aa8a120d18ee",
   "metadata": {},
   "outputs": [
    {
     "data": {
      "text/html": [
       "<div>\n",
       "<style scoped>\n",
       "    .dataframe tbody tr th:only-of-type {\n",
       "        vertical-align: middle;\n",
       "    }\n",
       "\n",
       "    .dataframe tbody tr th {\n",
       "        vertical-align: top;\n",
       "    }\n",
       "\n",
       "    .dataframe thead th {\n",
       "        text-align: right;\n",
       "    }\n",
       "</style>\n",
       "<table border=\"1\" class=\"dataframe\">\n",
       "  <thead>\n",
       "    <tr style=\"text-align: right;\">\n",
       "      <th></th>\n",
       "      <th>hg19</th>\n",
       "      <th>mm10</th>\n",
       "    </tr>\n",
       "  </thead>\n",
       "  <tbody>\n",
       "    <tr>\n",
       "      <th>0</th>\n",
       "      <td>transcript_id=NM_000066.4</td>\n",
       "      <td>transcript_id=NM_133882.2</td>\n",
       "    </tr>\n",
       "    <tr>\n",
       "      <th>1</th>\n",
       "      <td>transcript_id=NM_000081.4</td>\n",
       "      <td>transcript_id=NM_010945.2</td>\n",
       "    </tr>\n",
       "    <tr>\n",
       "      <th>2</th>\n",
       "      <td>transcript_id=NM_000098.3</td>\n",
       "      <td>transcript_id=NM_009949.2</td>\n",
       "    </tr>\n",
       "    <tr>\n",
       "      <th>3</th>\n",
       "      <td>transcript_id=NM_000147.5</td>\n",
       "      <td>transcript_id=NM_024243.4</td>\n",
       "    </tr>\n",
       "    <tr>\n",
       "      <th>4</th>\n",
       "      <td>transcript_id=NM_000191.3</td>\n",
       "      <td>transcript_id=NM_008254.2</td>\n",
       "    </tr>\n",
       "    <tr>\n",
       "      <th>...</th>\n",
       "      <td>...</td>\n",
       "      <td>...</td>\n",
       "    </tr>\n",
       "    <tr>\n",
       "      <th>856</th>\n",
       "      <td>transcript_id=NM_207356.3</td>\n",
       "      <td>transcript_id=NM_175287.4</td>\n",
       "    </tr>\n",
       "    <tr>\n",
       "      <th>857</th>\n",
       "      <td>transcript_id=NM_207370.4</td>\n",
       "      <td>transcript_id=NM_178406.2</td>\n",
       "    </tr>\n",
       "    <tr>\n",
       "      <th>858</th>\n",
       "      <td>transcript_id=NM_207396.3</td>\n",
       "      <td>transcript_id=NM_001033489.2</td>\n",
       "    </tr>\n",
       "    <tr>\n",
       "      <th>859</th>\n",
       "      <td>transcript_id=NM_207420.3</td>\n",
       "      <td>transcript_id=NM_001085529.1</td>\n",
       "    </tr>\n",
       "    <tr>\n",
       "      <th>860</th>\n",
       "      <td>transcript_id=NM_213566.2</td>\n",
       "      <td>transcript_id=NM_010044.3</td>\n",
       "    </tr>\n",
       "  </tbody>\n",
       "</table>\n",
       "<p>861 rows × 2 columns</p>\n",
       "</div>"
      ],
      "text/plain": [
       "                          hg19                          mm10\n",
       "0    transcript_id=NM_000066.4     transcript_id=NM_133882.2\n",
       "1    transcript_id=NM_000081.4     transcript_id=NM_010945.2\n",
       "2    transcript_id=NM_000098.3     transcript_id=NM_009949.2\n",
       "3    transcript_id=NM_000147.5     transcript_id=NM_024243.4\n",
       "4    transcript_id=NM_000191.3     transcript_id=NM_008254.2\n",
       "..                         ...                           ...\n",
       "856  transcript_id=NM_207356.3     transcript_id=NM_175287.4\n",
       "857  transcript_id=NM_207370.4     transcript_id=NM_178406.2\n",
       "858  transcript_id=NM_207396.3  transcript_id=NM_001033489.2\n",
       "859  transcript_id=NM_207420.3  transcript_id=NM_001085529.1\n",
       "860  transcript_id=NM_213566.2     transcript_id=NM_010044.3\n",
       "\n",
       "[861 rows x 2 columns]"
      ]
     },
     "execution_count": 14,
     "metadata": {},
     "output_type": "execute_result"
    }
   ],
   "source": [
    "pairs"
   ]
  },
  {
   "cell_type": "code",
   "execution_count": 15,
   "id": "1d982981-80e5-478a-a6d2-33beebf5e6d8",
   "metadata": {},
   "outputs": [],
   "source": [
    "hg19_genes = hg19_genes.loc[hg19_genes[3].isin(pairs['hg19']), :]\n",
    "mm10_genes = mm10_genes.loc[mm10_genes[3].isin(pairs['mm10']), :]\n",
    "\n",
    "column_names_hg19 = [j + '_hg19' for j in ['chr', 'start', 'end', 'id', 'score', 'strand']]\n",
    "column_names_mm10 = [j + '_mm10' for j in ['chr', 'start', 'end', 'id', 'score', 'strand']]\n",
    "\n",
    "hg19_genes.columns = column_names_hg19\n",
    "mm10_genes.columns = column_names_mm10"
   ]
  },
  {
   "cell_type": "code",
   "execution_count": 16,
   "id": "c77e0ed5-77ec-4649-bf31-a1c79666fb9c",
   "metadata": {},
   "outputs": [],
   "source": [
    "hg19_genes = hg19_genes.sort_values('id_hg19')\n",
    "pairs = pairs.sort_values('hg19')\n",
    "pairs.index = hg19_genes.index\n",
    "hg19_genes['mm10_id'] = pairs.loc[:, 'mm10']\n",
    "mm10_genes = mm10_genes.sort_values('id_mm10')\n",
    "hg19_genes = hg19_genes.sort_values('mm10_id')\n",
    "mm10_genes.index = hg19_genes.index\n",
    "genes = pd.concat([hg19_genes, mm10_genes], axis = 1)"
   ]
  },
  {
   "cell_type": "code",
   "execution_count": 17,
   "id": "3f40f4b3-c64a-47a4-9ebd-7d3fe3c4278b",
   "metadata": {},
   "outputs": [],
   "source": [
    "genes.drop('mm10_id', axis=1, inplace=True)"
   ]
  },
  {
   "cell_type": "code",
   "execution_count": 18,
   "id": "278a202d-56ed-47f3-af77-d19c6006952d",
   "metadata": {},
   "outputs": [],
   "source": [
    "genes.to_csv('hg19_genes_mm10_ortho.bed', header=None, index=False, sep='\\t')"
   ]
  },
  {
   "cell_type": "code",
   "execution_count": null,
   "id": "b36e559a-00a6-47d1-bbaa-849d05359f4f",
   "metadata": {},
   "outputs": [],
   "source": []
  }
 ],
 "metadata": {
  "kernelspec": {
   "display_name": "ML",
   "language": "python",
   "name": "ml"
  },
  "language_info": {
   "codemirror_mode": {
    "name": "ipython",
    "version": 3
   },
   "file_extension": ".py",
   "mimetype": "text/x-python",
   "name": "python",
   "nbconvert_exporter": "python",
   "pygments_lexer": "ipython3",
   "version": "3.10.5"
  }
 },
 "nbformat": 4,
 "nbformat_minor": 5
}
